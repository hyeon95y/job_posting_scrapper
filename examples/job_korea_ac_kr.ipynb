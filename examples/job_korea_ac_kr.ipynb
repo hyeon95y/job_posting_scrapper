{
 "metadata": {
  "language_info": {
   "codemirror_mode": {
    "name": "ipython",
    "version": 3
   },
   "file_extension": ".py",
   "mimetype": "text/x-python",
   "name": "python",
   "nbconvert_exporter": "python",
   "pygments_lexer": "ipython3",
   "version": "3.7.3"
  },
  "orig_nbformat": 2,
  "kernelspec": {
   "name": "python3",
   "display_name": "Python 3.7.3 64-bit",
   "metadata": {
    "interpreter": {
     "hash": "276609a8fe84867650c2cfbf3becea2cfca7f38d24e9c6a5b5b56d5de1aa44d2"
    }
   }
  }
 },
 "nbformat": 4,
 "nbformat_minor": 2,
 "cells": [
  {
   "cell_type": "code",
   "execution_count": 2,
   "metadata": {},
   "outputs": [],
   "source": [
    "%load_ext autoreload\n",
    "%autoreload 2"
   ]
  },
  {
   "cell_type": "code",
   "execution_count": 3,
   "metadata": {},
   "outputs": [],
   "source": [
    "import os, sys\n",
    "\n",
    "sys.path.append(os.path.abspath(os.path.join(os.getcwd(), '..', '..')))\n"
   ]
  },
  {
   "cell_type": "code",
   "execution_count": 22,
   "metadata": {},
   "outputs": [],
   "source": [
    "from scrapper.source.job_korea_ac_kr import JobKoreaAcKrScrapper\n",
    "\n",
    "job_korea_ac_kr_scrapper = JobKoreaAcKrScrapper()\n",
    "job_korea_ac_kr_scrapper.sign_in()\n",
    "job_korea_ac_kr_scrapper.open_job_posting_page()"
   ]
  },
  {
   "cell_type": "code",
   "execution_count": 35,
   "metadata": {},
   "outputs": [],
   "source": []
  },
  {
   "cell_type": "code",
   "execution_count": 72,
   "metadata": {},
   "outputs": [],
   "source": [
    "from db_manager.csv.base import CSVDBManager\n",
    "db_manager = CSVDBManager()\n",
    "db_manager.read_db()"
   ]
  },
  {
   "cell_type": "code",
   "execution_count": 77,
   "metadata": {},
   "outputs": [],
   "source": [
    "num_pages_to_scrap = 5\n",
    "\n",
    "for range in (0, num_pages_to_scrap) : \n",
    "    table = job_korea_ac_kr_scrapper._get_table()\n",
    "    db_manager.append(table)\n",
    "    job_korea_ac_kr_scrapper.move_to_next_page()\n",
    "\n",
    "db_manager.write_db()"
   ]
  },
  {
   "cell_type": "code",
   "execution_count": 27,
   "metadata": {},
   "outputs": [],
   "source": [
    "db_manager._data"
   ]
  }
 ]
}