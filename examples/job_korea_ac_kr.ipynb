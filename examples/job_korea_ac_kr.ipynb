{
 "metadata": {
  "language_info": {
   "codemirror_mode": {
    "name": "ipython",
    "version": 3
   },
   "file_extension": ".py",
   "mimetype": "text/x-python",
   "name": "python",
   "nbconvert_exporter": "python",
   "pygments_lexer": "ipython3",
   "version": "3.7.3"
  },
  "orig_nbformat": 2,
  "kernelspec": {
   "name": "python3",
   "display_name": "Python 3.7.3 64-bit",
   "metadata": {
    "interpreter": {
     "hash": "276609a8fe84867650c2cfbf3becea2cfca7f38d24e9c6a5b5b56d5de1aa44d2"
    }
   }
  }
 },
 "nbformat": 4,
 "nbformat_minor": 2,
 "cells": [
  {
   "cell_type": "code",
   "execution_count": 1,
   "metadata": {},
   "outputs": [],
   "source": [
    "%load_ext autoreload\n",
    "%autoreload 2"
   ]
  },
  {
   "cell_type": "code",
   "execution_count": 2,
   "metadata": {},
   "outputs": [],
   "source": [
    "import os, sys\n",
    "\n",
    "sys.path.append(os.path.abspath(os.path.join(os.getcwd(), '..', 'src')))\n"
   ]
  },
  {
   "cell_type": "code",
   "execution_count": 3,
   "metadata": {},
   "outputs": [],
   "source": [
    "from scrapper.source.job_korea_ac_kr import JobKoreaAcKrScrapper\n",
    "\n",
    "job_korea_ac_kr_scrapper = JobKoreaAcKrScrapper()\n",
    "job_korea_ac_kr_scrapper.sign_in()\n",
    "job_korea_ac_kr_scrapper.open_job_posting_page()"
   ]
  },
  {
   "cell_type": "code",
   "execution_count": 21,
   "metadata": {},
   "outputs": [],
   "source": [
    "from db_manager.csv.base import CSVDBManager\n",
    "db_manager = CSVDBManager()\n",
    "db_manager.read_db()"
   ]
  },
  {
   "cell_type": "code",
   "execution_count": 22,
   "metadata": {},
   "outputs": [
    {
     "output_type": "display_data",
     "data": {
      "text/plain": "     post_date    end_date post_id  \\\n0  2021-08-17       채용시 마감     950   \n1  2021-08-17   2021-08-23     949   \n2  2021-08-17       채용시 마감     948   \n3  2021-08-17       채용시 마감     947   \n4  2021-08-17   2021-09-02     946   \n5  2021-08-17       채용시 마감     945   \n6  2021-08-17       채용시 마감     944   \n7  2021-08-17       채용시 마감     943   \n8  2021-08-17   2021-08-27     942   \n\n                                          post_title           source  \\\n0  딥블루닷 기업 처음부터 같이 시작하는 엔지니어 모집 (경력/신입/인턴) 일반채용 신...  job.korea.ac.kr   \n1   법무법인(유) 율촌 기업 로펌 교육팀 영상제작 인턴 채용공고 일반채용 신입 정규직     job.korea.ac.kr   \n2  (주)블록워터테크놀로지스 기업 리서치 애널리스트(RA) / 마케터 인턴 채용 공고 ...  job.korea.ac.kr   \n3                 피플펀드컴퍼니 기업 인턴 채용 공고 일반채용 신입 정규직     job.korea.ac.kr   \n4   트릿지 기업 Communication (인턴십) 3개월 공고 일반채용 신입 정규직     job.korea.ac.kr   \n5         과학기술전문사관 기업 8기 후보생 모집 선발 공고 일반채용 신입 정규직     job.korea.ac.kr   \n6          공원녹지전문요원 기업 공원녹지전문요원 채용 공고 일반채용 신입 정규직     job.korea.ac.kr   \n7                     태안 기업 창업비즈센터 채용 일반채용 신입 정규직     job.korea.ac.kr   \n8             (주)아이피프라임 기업 신입사원 채용 공고 일반채용 신입 정규직     job.korea.ac.kr   \n\n  primary_key  \n0     post_id  \n1     post_id  \n2     post_id  \n3     post_id  \n4     post_id  \n5     post_id  \n6     post_id  \n7     post_id  \n8     post_id  ",
      "text/html": "<div>\n<style scoped>\n    .dataframe tbody tr th:only-of-type {\n        vertical-align: middle;\n    }\n\n    .dataframe tbody tr th {\n        vertical-align: top;\n    }\n\n    .dataframe thead th {\n        text-align: right;\n    }\n</style>\n<table border=\"1\" class=\"dataframe\">\n  <thead>\n    <tr style=\"text-align: right;\">\n      <th></th>\n      <th>post_date</th>\n      <th>end_date</th>\n      <th>post_id</th>\n      <th>post_title</th>\n      <th>source</th>\n      <th>primary_key</th>\n    </tr>\n  </thead>\n  <tbody>\n    <tr>\n      <th>0</th>\n      <td>2021-08-17</td>\n      <td>채용시 마감</td>\n      <td>950</td>\n      <td>딥블루닷 기업 처음부터 같이 시작하는 엔지니어 모집 (경력/신입/인턴) 일반채용 신...</td>\n      <td>job.korea.ac.kr</td>\n      <td>post_id</td>\n    </tr>\n    <tr>\n      <th>1</th>\n      <td>2021-08-17</td>\n      <td>2021-08-23</td>\n      <td>949</td>\n      <td>법무법인(유) 율촌 기업 로펌 교육팀 영상제작 인턴 채용공고 일반채용 신입 정규직</td>\n      <td>job.korea.ac.kr</td>\n      <td>post_id</td>\n    </tr>\n    <tr>\n      <th>2</th>\n      <td>2021-08-17</td>\n      <td>채용시 마감</td>\n      <td>948</td>\n      <td>(주)블록워터테크놀로지스 기업 리서치 애널리스트(RA) / 마케터 인턴 채용 공고 ...</td>\n      <td>job.korea.ac.kr</td>\n      <td>post_id</td>\n    </tr>\n    <tr>\n      <th>3</th>\n      <td>2021-08-17</td>\n      <td>채용시 마감</td>\n      <td>947</td>\n      <td>피플펀드컴퍼니 기업 인턴 채용 공고 일반채용 신입 정규직</td>\n      <td>job.korea.ac.kr</td>\n      <td>post_id</td>\n    </tr>\n    <tr>\n      <th>4</th>\n      <td>2021-08-17</td>\n      <td>2021-09-02</td>\n      <td>946</td>\n      <td>트릿지 기업 Communication (인턴십) 3개월 공고 일반채용 신입 정규직</td>\n      <td>job.korea.ac.kr</td>\n      <td>post_id</td>\n    </tr>\n    <tr>\n      <th>5</th>\n      <td>2021-08-17</td>\n      <td>채용시 마감</td>\n      <td>945</td>\n      <td>과학기술전문사관 기업 8기 후보생 모집 선발 공고 일반채용 신입 정규직</td>\n      <td>job.korea.ac.kr</td>\n      <td>post_id</td>\n    </tr>\n    <tr>\n      <th>6</th>\n      <td>2021-08-17</td>\n      <td>채용시 마감</td>\n      <td>944</td>\n      <td>공원녹지전문요원 기업 공원녹지전문요원 채용 공고 일반채용 신입 정규직</td>\n      <td>job.korea.ac.kr</td>\n      <td>post_id</td>\n    </tr>\n    <tr>\n      <th>7</th>\n      <td>2021-08-17</td>\n      <td>채용시 마감</td>\n      <td>943</td>\n      <td>태안 기업 창업비즈센터 채용 일반채용 신입 정규직</td>\n      <td>job.korea.ac.kr</td>\n      <td>post_id</td>\n    </tr>\n    <tr>\n      <th>8</th>\n      <td>2021-08-17</td>\n      <td>2021-08-27</td>\n      <td>942</td>\n      <td>(주)아이피프라임 기업 신입사원 채용 공고 일반채용 신입 정규직</td>\n      <td>job.korea.ac.kr</td>\n      <td>post_id</td>\n    </tr>\n  </tbody>\n</table>\n</div>"
     },
     "metadata": {}
    },
    {
     "output_type": "error",
     "ename": "TypeError",
     "evalue": "append() missing 1 required positional argument: 'source'",
     "traceback": [
      "\u001b[0;31m---------------------------------------------------------------------------\u001b[0m",
      "\u001b[0;31mTypeError\u001b[0m                                 Traceback (most recent call last)",
      "\u001b[0;32m<ipython-input-22-c42659c9b00a>\u001b[0m in \u001b[0;36m<module>\u001b[0;34m\u001b[0m\n\u001b[1;32m      4\u001b[0m     \u001b[0mtable\u001b[0m \u001b[0;34m=\u001b[0m \u001b[0mjob_korea_ac_kr_scrapper\u001b[0m\u001b[0;34m.\u001b[0m\u001b[0mget_table\u001b[0m\u001b[0;34m(\u001b[0m\u001b[0;34m)\u001b[0m\u001b[0;34m\u001b[0m\u001b[0;34m\u001b[0m\u001b[0m\n\u001b[1;32m      5\u001b[0m     \u001b[0mdisplay\u001b[0m\u001b[0;34m(\u001b[0m\u001b[0mtable\u001b[0m\u001b[0;34m)\u001b[0m\u001b[0;34m\u001b[0m\u001b[0;34m\u001b[0m\u001b[0m\n\u001b[0;32m----> 6\u001b[0;31m     \u001b[0mdb_manager\u001b[0m\u001b[0;34m.\u001b[0m\u001b[0mappend\u001b[0m\u001b[0;34m(\u001b[0m\u001b[0mtable\u001b[0m\u001b[0;34m)\u001b[0m\u001b[0;34m\u001b[0m\u001b[0;34m\u001b[0m\u001b[0m\n\u001b[0m\u001b[1;32m      7\u001b[0m     \u001b[0mjob_korea_ac_kr_scrapper\u001b[0m\u001b[0;34m.\u001b[0m\u001b[0mmove_to_next_page\u001b[0m\u001b[0;34m(\u001b[0m\u001b[0;34m)\u001b[0m\u001b[0;34m\u001b[0m\u001b[0;34m\u001b[0m\u001b[0m\n\u001b[1;32m      8\u001b[0m \u001b[0;34m\u001b[0m\u001b[0m\n",
      "\u001b[0;31mTypeError\u001b[0m: append() missing 1 required positional argument: 'source'"
     ]
    }
   ],
   "source": [
    "num_pages_to_scrap = 5\n",
    "\n",
    "for range in (0, num_pages_to_scrap) : \n",
    "    table = job_korea_ac_kr_scrapper.get_table()\n",
    "    display(table)\n",
    "    db_manager.append(table, source='job.korea.ac.kr')\n",
    "    job_korea_ac_kr_scrapper.move_to_next_page()\n",
    "\n",
    "db_manager.write_db()"
   ]
  },
  {
   "cell_type": "code",
   "execution_count": 23,
   "metadata": {},
   "outputs": [
    {
     "output_type": "execute_result",
     "data": {
      "text/plain": [
       "18"
      ]
     },
     "metadata": {},
     "execution_count": 23
    }
   ],
   "source": [
    "db_manager._data.shape[0]"
   ]
  },
  {
   "cell_type": "code",
   "execution_count": 24,
   "metadata": {},
   "outputs": [
    {
     "output_type": "execute_result",
     "data": {
      "text/plain": [
       "      post_date    end_date  post_id  \\\n",
       "0   2021-08-23       채용시 마감      970   \n",
       "1   2021-08-20       채용시 마감      969   \n",
       "2   2021-08-20   2021-08-25      968   \n",
       "3   2021-08-20       채용시 마감      967   \n",
       "4   2021-08-20       채용시 마감      966   \n",
       "5   2021-08-19   2021-08-31      965   \n",
       "6   2021-08-19   2021-08-27      964   \n",
       "7   2021-08-19       채용시 마감      963   \n",
       "8   2021-08-19   2021-08-23      962   \n",
       "9   2021-08-19   2021-09-01      960   \n",
       "10  2021-08-19       채용시 마감      959   \n",
       "11  2021-08-19   21-08-19 상      958   \n",
       "12  2021-08-19   2021-08-24      957   \n",
       "13  2021-08-19   2021-08-27      956   \n",
       "14  2021-08-19       채용시 마감      955   \n",
       "15  2021-08-19   2021-09-10      954   \n",
       "16  2021-08-19       채용시 마감      953   \n",
       "17  2021-08-19   2021-08-24      952   \n",
       "\n",
       "                                           post_title           source  \\\n",
       "0                     PwC컨설팅 기업 인턴 채용 공고 일반채용 신입 인턴    job.korea.ac.kr   \n",
       "1   에이스에쿼티파트너스(유) 기업 [에이스에쿼티파트너스] PEF 투자팀 인턴 애널리스트...  job.korea.ac.kr   \n",
       "2                 KMAC 기업 공공조사1본부 RA 채용 일반채용 신입 인턴     job.korea.ac.kr   \n",
       "3   BNP Paribas 증권 기업 1 Year temp_Operations 일반채용 ...  job.korea.ac.kr   \n",
       "4   [당근마켓] 기업 프로젝트 인턴(명칭 당근마켓 MVP 인턴십) 홍보 일반채용 신입 ...  job.korea.ac.kr   \n",
       "5               국립생태원 기업 기간제 근로자 채용 공고 일반채용 신입 정규직     job.korea.ac.kr   \n",
       "6                     서울교대 기업 조교 채용 공고 일반채용 신입 정규직     job.korea.ac.kr   \n",
       "7   Morgan Stanley_인사부 기업 Institutional Equity Div...  job.korea.ac.kr   \n",
       "8   철새이동경로 파트너십 (EAAFP) 기업 사무국 인턴십채용 공고 게재 요청 일반채용...  job.korea.ac.kr   \n",
       "9   유엔세계식량계획(WFP) 기업 한국사무소 채용 공고 (Business Support...  job.korea.ac.kr   \n",
       "10    한화솔루션 기업 2021 한화솔루션 e커머스전략팀 인턴채용 일반채용 신입 정규직     job.korea.ac.kr   \n",
       "11  LG전자 기업 HE사업본부 SW 신입사원 수시채용 (채용연계형 인턴십) 일반채용 신...  job.korea.ac.kr   \n",
       "12                  삼일회계법인 기업 RA 채용 공고 일반채용 신입 정규직     job.korea.ac.kr   \n",
       "13  롯데케미칼 기업 2021 롯데케미칼 신입사원 모집 (~8/27 금) 일반채용 신입 ...  job.korea.ac.kr   \n",
       "14                      큐램 기업 직원 채용 공고 일반채용 신입 정규직     job.korea.ac.kr   \n",
       "15  국제백신연구소(IVI) 기업 모금홍보담당 직원(계약직, 인턴) 채용공고 일반채용 신...  job.korea.ac.kr   \n",
       "16     퀀타매트릭스 기업 전략기획본부 IR,BD팀_인턴 채용공고 일반채용 신입 정규직     job.korea.ac.kr   \n",
       "17  [순천향대학교 부속 부천병원] 기업 본원 사무처 정규직 사무원 채용공고 일반채용 신...  job.korea.ac.kr   \n",
       "\n",
       "   primary_key  \n",
       "0      post_id  \n",
       "1      post_id  \n",
       "2      post_id  \n",
       "3      post_id  \n",
       "4      post_id  \n",
       "5      post_id  \n",
       "6      post_id  \n",
       "7      post_id  \n",
       "8      post_id  \n",
       "9      post_id  \n",
       "10     post_id  \n",
       "11     post_id  \n",
       "12     post_id  \n",
       "13     post_id  \n",
       "14     post_id  \n",
       "15     post_id  \n",
       "16     post_id  \n",
       "17     post_id  "
      ],
      "text/html": "<div>\n<style scoped>\n    .dataframe tbody tr th:only-of-type {\n        vertical-align: middle;\n    }\n\n    .dataframe tbody tr th {\n        vertical-align: top;\n    }\n\n    .dataframe thead th {\n        text-align: right;\n    }\n</style>\n<table border=\"1\" class=\"dataframe\">\n  <thead>\n    <tr style=\"text-align: right;\">\n      <th></th>\n      <th>post_date</th>\n      <th>end_date</th>\n      <th>post_id</th>\n      <th>post_title</th>\n      <th>source</th>\n      <th>primary_key</th>\n    </tr>\n  </thead>\n  <tbody>\n    <tr>\n      <th>0</th>\n      <td>2021-08-23</td>\n      <td>채용시 마감</td>\n      <td>970</td>\n      <td>PwC컨설팅 기업 인턴 채용 공고 일반채용 신입 인턴</td>\n      <td>job.korea.ac.kr</td>\n      <td>post_id</td>\n    </tr>\n    <tr>\n      <th>1</th>\n      <td>2021-08-20</td>\n      <td>채용시 마감</td>\n      <td>969</td>\n      <td>에이스에쿼티파트너스(유) 기업 [에이스에쿼티파트너스] PEF 투자팀 인턴 애널리스트...</td>\n      <td>job.korea.ac.kr</td>\n      <td>post_id</td>\n    </tr>\n    <tr>\n      <th>2</th>\n      <td>2021-08-20</td>\n      <td>2021-08-25</td>\n      <td>968</td>\n      <td>KMAC 기업 공공조사1본부 RA 채용 일반채용 신입 인턴</td>\n      <td>job.korea.ac.kr</td>\n      <td>post_id</td>\n    </tr>\n    <tr>\n      <th>3</th>\n      <td>2021-08-20</td>\n      <td>채용시 마감</td>\n      <td>967</td>\n      <td>BNP Paribas 증권 기업 1 Year temp_Operations 일반채용 ...</td>\n      <td>job.korea.ac.kr</td>\n      <td>post_id</td>\n    </tr>\n    <tr>\n      <th>4</th>\n      <td>2021-08-20</td>\n      <td>채용시 마감</td>\n      <td>966</td>\n      <td>[당근마켓] 기업 프로젝트 인턴(명칭 당근마켓 MVP 인턴십) 홍보 일반채용 신입 ...</td>\n      <td>job.korea.ac.kr</td>\n      <td>post_id</td>\n    </tr>\n    <tr>\n      <th>5</th>\n      <td>2021-08-19</td>\n      <td>2021-08-31</td>\n      <td>965</td>\n      <td>국립생태원 기업 기간제 근로자 채용 공고 일반채용 신입 정규직</td>\n      <td>job.korea.ac.kr</td>\n      <td>post_id</td>\n    </tr>\n    <tr>\n      <th>6</th>\n      <td>2021-08-19</td>\n      <td>2021-08-27</td>\n      <td>964</td>\n      <td>서울교대 기업 조교 채용 공고 일반채용 신입 정규직</td>\n      <td>job.korea.ac.kr</td>\n      <td>post_id</td>\n    </tr>\n    <tr>\n      <th>7</th>\n      <td>2021-08-19</td>\n      <td>채용시 마감</td>\n      <td>963</td>\n      <td>Morgan Stanley_인사부 기업 Institutional Equity Div...</td>\n      <td>job.korea.ac.kr</td>\n      <td>post_id</td>\n    </tr>\n    <tr>\n      <th>8</th>\n      <td>2021-08-19</td>\n      <td>2021-08-23</td>\n      <td>962</td>\n      <td>철새이동경로 파트너십 (EAAFP) 기업 사무국 인턴십채용 공고 게재 요청 일반채용...</td>\n      <td>job.korea.ac.kr</td>\n      <td>post_id</td>\n    </tr>\n    <tr>\n      <th>9</th>\n      <td>2021-08-19</td>\n      <td>2021-09-01</td>\n      <td>960</td>\n      <td>유엔세계식량계획(WFP) 기업 한국사무소 채용 공고 (Business Support...</td>\n      <td>job.korea.ac.kr</td>\n      <td>post_id</td>\n    </tr>\n    <tr>\n      <th>10</th>\n      <td>2021-08-19</td>\n      <td>채용시 마감</td>\n      <td>959</td>\n      <td>한화솔루션 기업 2021 한화솔루션 e커머스전략팀 인턴채용 일반채용 신입 정규직</td>\n      <td>job.korea.ac.kr</td>\n      <td>post_id</td>\n    </tr>\n    <tr>\n      <th>11</th>\n      <td>2021-08-19</td>\n      <td>21-08-19 상</td>\n      <td>958</td>\n      <td>LG전자 기업 HE사업본부 SW 신입사원 수시채용 (채용연계형 인턴십) 일반채용 신...</td>\n      <td>job.korea.ac.kr</td>\n      <td>post_id</td>\n    </tr>\n    <tr>\n      <th>12</th>\n      <td>2021-08-19</td>\n      <td>2021-08-24</td>\n      <td>957</td>\n      <td>삼일회계법인 기업 RA 채용 공고 일반채용 신입 정규직</td>\n      <td>job.korea.ac.kr</td>\n      <td>post_id</td>\n    </tr>\n    <tr>\n      <th>13</th>\n      <td>2021-08-19</td>\n      <td>2021-08-27</td>\n      <td>956</td>\n      <td>롯데케미칼 기업 2021 롯데케미칼 신입사원 모집 (~8/27 금) 일반채용 신입 ...</td>\n      <td>job.korea.ac.kr</td>\n      <td>post_id</td>\n    </tr>\n    <tr>\n      <th>14</th>\n      <td>2021-08-19</td>\n      <td>채용시 마감</td>\n      <td>955</td>\n      <td>큐램 기업 직원 채용 공고 일반채용 신입 정규직</td>\n      <td>job.korea.ac.kr</td>\n      <td>post_id</td>\n    </tr>\n    <tr>\n      <th>15</th>\n      <td>2021-08-19</td>\n      <td>2021-09-10</td>\n      <td>954</td>\n      <td>국제백신연구소(IVI) 기업 모금홍보담당 직원(계약직, 인턴) 채용공고 일반채용 신...</td>\n      <td>job.korea.ac.kr</td>\n      <td>post_id</td>\n    </tr>\n    <tr>\n      <th>16</th>\n      <td>2021-08-19</td>\n      <td>채용시 마감</td>\n      <td>953</td>\n      <td>퀀타매트릭스 기업 전략기획본부 IR,BD팀_인턴 채용공고 일반채용 신입 정규직</td>\n      <td>job.korea.ac.kr</td>\n      <td>post_id</td>\n    </tr>\n    <tr>\n      <th>17</th>\n      <td>2021-08-19</td>\n      <td>2021-08-24</td>\n      <td>952</td>\n      <td>[순천향대학교 부속 부천병원] 기업 본원 사무처 정규직 사무원 채용공고 일반채용 신...</td>\n      <td>job.korea.ac.kr</td>\n      <td>post_id</td>\n    </tr>\n  </tbody>\n</table>\n</div>"
     },
     "metadata": {},
     "execution_count": 24
    }
   ],
   "source": [
    "db_manager._data"
   ]
  },
  {
   "cell_type": "code",
   "execution_count": null,
   "metadata": {},
   "outputs": [],
   "source": []
  }
 ]
}